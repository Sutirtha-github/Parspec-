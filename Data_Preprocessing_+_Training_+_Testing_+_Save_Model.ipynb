{
  "nbformat": 4,
  "nbformat_minor": 0,
  "metadata": {
    "colab": {
      "provenance": [],
      "gpuType": "T4"
    },
    "kernelspec": {
      "name": "python3",
      "display_name": "Python 3"
    },
    "language_info": {
      "name": "python"
    },
    "accelerator": "GPU"
  },
  "cells": [
    {
      "cell_type": "markdown",
      "source": [
        "# Parspec Data Science Interview Assignment"
      ],
      "metadata": {
        "id": "fdLsUijWgjBQ"
      }
    },
    {
      "cell_type": "code",
      "execution_count": 1,
      "metadata": {
        "id": "O-eAhfcogQqp"
      },
      "outputs": [],
      "source": [
        "# Import required libraries\n",
        "import pandas as pd\n",
        "import warnings\n",
        "warnings.filterwarnings('ignore')"
      ]
    },
    {
      "cell_type": "markdown",
      "source": [
        "### Read the train/test datasets"
      ],
      "metadata": {
        "id": "609lfxU5hoCx"
      }
    },
    {
      "cell_type": "code",
      "source": [
        "train = pd.read_csv('/content/drive/MyDrive/parspec_train_data.csv')\n",
        "test = pd.read_csv('/content/drive/MyDrive/parspec_test_data.csv')\n",
        "train.head()"
      ],
      "metadata": {
        "colab": {
          "base_uri": "https://localhost:8080/",
          "height": 206
        },
        "id": "nYsUIACZgwqT",
        "outputId": "1ce7c99f-c91c-446e-9e3f-b6d2147d9f88"
      },
      "execution_count": 2,
      "outputs": [
        {
          "output_type": "execute_result",
          "data": {
            "text/plain": [
              "    ID                                                URL Is lighting product?\n",
              "0  P-0  https://a4b6eb24-cef6-4be0-88b1-aa225dd7e4f7.u...                  Yes\n",
              "1  P-1  https://a4b6eb24-cef6-4be0-88b1-aa225dd7e4f7.u...                  Yes\n",
              "2  P-2  https://myelektralite.com/assets/1018-AI-Outdo...                  Yes\n",
              "3  P-3  https://myelektralite.com/assets/1018-Data-She...                  Yes\n",
              "4  P-4  https://myelektralite.com/assets/1018AI-Data-S...                  Yes"
            ],
            "text/html": [
              "\n",
              "  <div id=\"df-de2dbe80-ebed-4e45-b936-8d026ac40e6e\" class=\"colab-df-container\">\n",
              "    <div>\n",
              "<style scoped>\n",
              "    .dataframe tbody tr th:only-of-type {\n",
              "        vertical-align: middle;\n",
              "    }\n",
              "\n",
              "    .dataframe tbody tr th {\n",
              "        vertical-align: top;\n",
              "    }\n",
              "\n",
              "    .dataframe thead th {\n",
              "        text-align: right;\n",
              "    }\n",
              "</style>\n",
              "<table border=\"1\" class=\"dataframe\">\n",
              "  <thead>\n",
              "    <tr style=\"text-align: right;\">\n",
              "      <th></th>\n",
              "      <th>ID</th>\n",
              "      <th>URL</th>\n",
              "      <th>Is lighting product?</th>\n",
              "    </tr>\n",
              "  </thead>\n",
              "  <tbody>\n",
              "    <tr>\n",
              "      <th>0</th>\n",
              "      <td>P-0</td>\n",
              "      <td>https://a4b6eb24-cef6-4be0-88b1-aa225dd7e4f7.u...</td>\n",
              "      <td>Yes</td>\n",
              "    </tr>\n",
              "    <tr>\n",
              "      <th>1</th>\n",
              "      <td>P-1</td>\n",
              "      <td>https://a4b6eb24-cef6-4be0-88b1-aa225dd7e4f7.u...</td>\n",
              "      <td>Yes</td>\n",
              "    </tr>\n",
              "    <tr>\n",
              "      <th>2</th>\n",
              "      <td>P-2</td>\n",
              "      <td>https://myelektralite.com/assets/1018-AI-Outdo...</td>\n",
              "      <td>Yes</td>\n",
              "    </tr>\n",
              "    <tr>\n",
              "      <th>3</th>\n",
              "      <td>P-3</td>\n",
              "      <td>https://myelektralite.com/assets/1018-Data-She...</td>\n",
              "      <td>Yes</td>\n",
              "    </tr>\n",
              "    <tr>\n",
              "      <th>4</th>\n",
              "      <td>P-4</td>\n",
              "      <td>https://myelektralite.com/assets/1018AI-Data-S...</td>\n",
              "      <td>Yes</td>\n",
              "    </tr>\n",
              "  </tbody>\n",
              "</table>\n",
              "</div>\n",
              "    <div class=\"colab-df-buttons\">\n",
              "\n",
              "  <div class=\"colab-df-container\">\n",
              "    <button class=\"colab-df-convert\" onclick=\"convertToInteractive('df-de2dbe80-ebed-4e45-b936-8d026ac40e6e')\"\n",
              "            title=\"Convert this dataframe to an interactive table.\"\n",
              "            style=\"display:none;\">\n",
              "\n",
              "  <svg xmlns=\"http://www.w3.org/2000/svg\" height=\"24px\" viewBox=\"0 -960 960 960\">\n",
              "    <path d=\"M120-120v-720h720v720H120Zm60-500h600v-160H180v160Zm220 220h160v-160H400v160Zm0 220h160v-160H400v160ZM180-400h160v-160H180v160Zm440 0h160v-160H620v160ZM180-180h160v-160H180v160Zm440 0h160v-160H620v160Z\"/>\n",
              "  </svg>\n",
              "    </button>\n",
              "\n",
              "  <style>\n",
              "    .colab-df-container {\n",
              "      display:flex;\n",
              "      gap: 12px;\n",
              "    }\n",
              "\n",
              "    .colab-df-convert {\n",
              "      background-color: #E8F0FE;\n",
              "      border: none;\n",
              "      border-radius: 50%;\n",
              "      cursor: pointer;\n",
              "      display: none;\n",
              "      fill: #1967D2;\n",
              "      height: 32px;\n",
              "      padding: 0 0 0 0;\n",
              "      width: 32px;\n",
              "    }\n",
              "\n",
              "    .colab-df-convert:hover {\n",
              "      background-color: #E2EBFA;\n",
              "      box-shadow: 0px 1px 2px rgba(60, 64, 67, 0.3), 0px 1px 3px 1px rgba(60, 64, 67, 0.15);\n",
              "      fill: #174EA6;\n",
              "    }\n",
              "\n",
              "    .colab-df-buttons div {\n",
              "      margin-bottom: 4px;\n",
              "    }\n",
              "\n",
              "    [theme=dark] .colab-df-convert {\n",
              "      background-color: #3B4455;\n",
              "      fill: #D2E3FC;\n",
              "    }\n",
              "\n",
              "    [theme=dark] .colab-df-convert:hover {\n",
              "      background-color: #434B5C;\n",
              "      box-shadow: 0px 1px 3px 1px rgba(0, 0, 0, 0.15);\n",
              "      filter: drop-shadow(0px 1px 2px rgba(0, 0, 0, 0.3));\n",
              "      fill: #FFFFFF;\n",
              "    }\n",
              "  </style>\n",
              "\n",
              "    <script>\n",
              "      const buttonEl =\n",
              "        document.querySelector('#df-de2dbe80-ebed-4e45-b936-8d026ac40e6e button.colab-df-convert');\n",
              "      buttonEl.style.display =\n",
              "        google.colab.kernel.accessAllowed ? 'block' : 'none';\n",
              "\n",
              "      async function convertToInteractive(key) {\n",
              "        const element = document.querySelector('#df-de2dbe80-ebed-4e45-b936-8d026ac40e6e');\n",
              "        const dataTable =\n",
              "          await google.colab.kernel.invokeFunction('convertToInteractive',\n",
              "                                                    [key], {});\n",
              "        if (!dataTable) return;\n",
              "\n",
              "        const docLinkHtml = 'Like what you see? Visit the ' +\n",
              "          '<a target=\"_blank\" href=https://colab.research.google.com/notebooks/data_table.ipynb>data table notebook</a>'\n",
              "          + ' to learn more about interactive tables.';\n",
              "        element.innerHTML = '';\n",
              "        dataTable['output_type'] = 'display_data';\n",
              "        await google.colab.output.renderOutput(dataTable, element);\n",
              "        const docLink = document.createElement('div');\n",
              "        docLink.innerHTML = docLinkHtml;\n",
              "        element.appendChild(docLink);\n",
              "      }\n",
              "    </script>\n",
              "  </div>\n",
              "\n",
              "\n",
              "<div id=\"df-90cf5013-3a39-4041-809c-e447fc2e52b2\">\n",
              "  <button class=\"colab-df-quickchart\" onclick=\"quickchart('df-90cf5013-3a39-4041-809c-e447fc2e52b2')\"\n",
              "            title=\"Suggest charts\"\n",
              "            style=\"display:none;\">\n",
              "\n",
              "<svg xmlns=\"http://www.w3.org/2000/svg\" height=\"24px\"viewBox=\"0 0 24 24\"\n",
              "     width=\"24px\">\n",
              "    <g>\n",
              "        <path d=\"M19 3H5c-1.1 0-2 .9-2 2v14c0 1.1.9 2 2 2h14c1.1 0 2-.9 2-2V5c0-1.1-.9-2-2-2zM9 17H7v-7h2v7zm4 0h-2V7h2v10zm4 0h-2v-4h2v4z\"/>\n",
              "    </g>\n",
              "</svg>\n",
              "  </button>\n",
              "\n",
              "<style>\n",
              "  .colab-df-quickchart {\n",
              "      --bg-color: #E8F0FE;\n",
              "      --fill-color: #1967D2;\n",
              "      --hover-bg-color: #E2EBFA;\n",
              "      --hover-fill-color: #174EA6;\n",
              "      --disabled-fill-color: #AAA;\n",
              "      --disabled-bg-color: #DDD;\n",
              "  }\n",
              "\n",
              "  [theme=dark] .colab-df-quickchart {\n",
              "      --bg-color: #3B4455;\n",
              "      --fill-color: #D2E3FC;\n",
              "      --hover-bg-color: #434B5C;\n",
              "      --hover-fill-color: #FFFFFF;\n",
              "      --disabled-bg-color: #3B4455;\n",
              "      --disabled-fill-color: #666;\n",
              "  }\n",
              "\n",
              "  .colab-df-quickchart {\n",
              "    background-color: var(--bg-color);\n",
              "    border: none;\n",
              "    border-radius: 50%;\n",
              "    cursor: pointer;\n",
              "    display: none;\n",
              "    fill: var(--fill-color);\n",
              "    height: 32px;\n",
              "    padding: 0;\n",
              "    width: 32px;\n",
              "  }\n",
              "\n",
              "  .colab-df-quickchart:hover {\n",
              "    background-color: var(--hover-bg-color);\n",
              "    box-shadow: 0 1px 2px rgba(60, 64, 67, 0.3), 0 1px 3px 1px rgba(60, 64, 67, 0.15);\n",
              "    fill: var(--button-hover-fill-color);\n",
              "  }\n",
              "\n",
              "  .colab-df-quickchart-complete:disabled,\n",
              "  .colab-df-quickchart-complete:disabled:hover {\n",
              "    background-color: var(--disabled-bg-color);\n",
              "    fill: var(--disabled-fill-color);\n",
              "    box-shadow: none;\n",
              "  }\n",
              "\n",
              "  .colab-df-spinner {\n",
              "    border: 2px solid var(--fill-color);\n",
              "    border-color: transparent;\n",
              "    border-bottom-color: var(--fill-color);\n",
              "    animation:\n",
              "      spin 1s steps(1) infinite;\n",
              "  }\n",
              "\n",
              "  @keyframes spin {\n",
              "    0% {\n",
              "      border-color: transparent;\n",
              "      border-bottom-color: var(--fill-color);\n",
              "      border-left-color: var(--fill-color);\n",
              "    }\n",
              "    20% {\n",
              "      border-color: transparent;\n",
              "      border-left-color: var(--fill-color);\n",
              "      border-top-color: var(--fill-color);\n",
              "    }\n",
              "    30% {\n",
              "      border-color: transparent;\n",
              "      border-left-color: var(--fill-color);\n",
              "      border-top-color: var(--fill-color);\n",
              "      border-right-color: var(--fill-color);\n",
              "    }\n",
              "    40% {\n",
              "      border-color: transparent;\n",
              "      border-right-color: var(--fill-color);\n",
              "      border-top-color: var(--fill-color);\n",
              "    }\n",
              "    60% {\n",
              "      border-color: transparent;\n",
              "      border-right-color: var(--fill-color);\n",
              "    }\n",
              "    80% {\n",
              "      border-color: transparent;\n",
              "      border-right-color: var(--fill-color);\n",
              "      border-bottom-color: var(--fill-color);\n",
              "    }\n",
              "    90% {\n",
              "      border-color: transparent;\n",
              "      border-bottom-color: var(--fill-color);\n",
              "    }\n",
              "  }\n",
              "</style>\n",
              "\n",
              "  <script>\n",
              "    async function quickchart(key) {\n",
              "      const quickchartButtonEl =\n",
              "        document.querySelector('#' + key + ' button');\n",
              "      quickchartButtonEl.disabled = true;  // To prevent multiple clicks.\n",
              "      quickchartButtonEl.classList.add('colab-df-spinner');\n",
              "      try {\n",
              "        const charts = await google.colab.kernel.invokeFunction(\n",
              "            'suggestCharts', [key], {});\n",
              "      } catch (error) {\n",
              "        console.error('Error during call to suggestCharts:', error);\n",
              "      }\n",
              "      quickchartButtonEl.classList.remove('colab-df-spinner');\n",
              "      quickchartButtonEl.classList.add('colab-df-quickchart-complete');\n",
              "    }\n",
              "    (() => {\n",
              "      let quickchartButtonEl =\n",
              "        document.querySelector('#df-90cf5013-3a39-4041-809c-e447fc2e52b2 button');\n",
              "      quickchartButtonEl.style.display =\n",
              "        google.colab.kernel.accessAllowed ? 'block' : 'none';\n",
              "    })();\n",
              "  </script>\n",
              "</div>\n",
              "    </div>\n",
              "  </div>\n"
            ]
          },
          "metadata": {},
          "execution_count": 2
        }
      ]
    },
    {
      "cell_type": "code",
      "source": [
        "print('Train rows:',train.shape[0])\n",
        "print('Test rows:',test.shape[0])"
      ],
      "metadata": {
        "colab": {
          "base_uri": "https://localhost:8080/"
        },
        "id": "8b72dJsghVoz",
        "outputId": "b8f9a7dc-aeab-4e1f-8339-98ae24912411"
      },
      "execution_count": 3,
      "outputs": [
        {
          "output_type": "stream",
          "name": "stdout",
          "text": [
            "Train rows: 1013\n",
            "Test rows: 80\n"
          ]
        }
      ]
    },
    {
      "cell_type": "code",
      "source": [
        "train['Is lighting product?'].value_counts()"
      ],
      "metadata": {
        "colab": {
          "base_uri": "https://localhost:8080/"
        },
        "id": "5lE7-QKjnGei",
        "outputId": "d9785526-57b0-4207-a8f0-30bf2d9f9d9f"
      },
      "execution_count": 26,
      "outputs": [
        {
          "output_type": "execute_result",
          "data": {
            "text/plain": [
              "Yes    500\n",
              "No     500\n",
              "Name: Is lighting product?, dtype: int64"
            ]
          },
          "metadata": {},
          "execution_count": 26
        }
      ]
    },
    {
      "cell_type": "markdown",
      "source": [
        "*13 Missing values exist in train data*"
      ],
      "metadata": {
        "id": "aC0TsD9un2H2"
      }
    },
    {
      "cell_type": "code",
      "source": [
        "test['Is lighting product?'].value_counts()"
      ],
      "metadata": {
        "colab": {
          "base_uri": "https://localhost:8080/"
        },
        "id": "m6xHz3AznxPW",
        "outputId": "154ae17e-b04d-4157-8c9c-e89c777c6fc1"
      },
      "execution_count": 62,
      "outputs": [
        {
          "output_type": "execute_result",
          "data": {
            "text/plain": [
              "0    60\n",
              "1    20\n",
              "Name: Is lighting product?, dtype: int64"
            ]
          },
          "metadata": {},
          "execution_count": 62
        }
      ]
    },
    {
      "cell_type": "markdown",
      "source": [
        "### Extraxt raw texts from the given pdf URL handles"
      ],
      "metadata": {
        "id": "dyUmhXfcoLsM"
      }
    },
    {
      "cell_type": "code",
      "source": [
        "!pip install PyMuPDF\n"
      ],
      "metadata": {
        "colab": {
          "base_uri": "https://localhost:8080/"
        },
        "id": "-QxEF08Eilvr",
        "outputId": "a5e1899f-1dc1-4aca-c2bb-1d6f68a9e8ad"
      },
      "execution_count": 3,
      "outputs": [
        {
          "output_type": "stream",
          "name": "stdout",
          "text": [
            "Requirement already satisfied: PyMuPDF in /usr/local/lib/python3.10/dist-packages (1.23.7)\n",
            "Requirement already satisfied: PyMuPDFb==1.23.7 in /usr/local/lib/python3.10/dist-packages (from PyMuPDF) (1.23.7)\n"
          ]
        }
      ]
    },
    {
      "cell_type": "markdown",
      "source": [
        "Create function that extracts texts from individual pdf url"
      ],
      "metadata": {
        "id": "Wd9p_YHIWpZE"
      }
    },
    {
      "cell_type": "code",
      "source": [
        "import requests\n",
        "import fitz  # PyMuPDF\n",
        "\n",
        "def extract_text_from_pdf_url(pdf_url):\n",
        "\n",
        "    \"\"\"\n",
        "    pdf_url: string (URL handle)\n",
        "    output: string (extracted text / 'Error')\n",
        "    1. Inputs a pdf URL handle\n",
        "    2. Checks status of webpage\n",
        "    3. If pdf file exists, returns the extracted text\n",
        "    4. Else return a failure message- 'Error'\n",
        "    \"\"\"\n",
        "\n",
        "    # Download the PDF content from the URL\n",
        "    response = requests.get(pdf_url, verify=False)\n",
        "\n",
        "    # Check if the request was successful (status code 200)\n",
        "    if response.status_code == 200:\n",
        "        # Create a PyMuPDF document object from the PDF content\n",
        "        pdf_document = fitz.open(stream=response.content, filetype=\"pdf\")\n",
        "\n",
        "        # Iterate through pages and extract text\n",
        "        text = \"\"\n",
        "        for page_number in range(pdf_document.page_count):\n",
        "            page = pdf_document[page_number]\n",
        "            text += page.get_text()\n",
        "\n",
        "        # Close the PyMuPDF document\n",
        "        pdf_document.close()\n",
        "\n",
        "        if text == \"\":\n",
        "          return \"Error\"\n",
        "        else:\n",
        "          return text\n",
        "    else:\n",
        "        # Print an error message if the request was not successful\n",
        "        return \"Error\"\n"
      ],
      "metadata": {
        "id": "22YyyIaEhk9X"
      },
      "execution_count": 34,
      "outputs": []
    },
    {
      "cell_type": "code",
      "source": [
        "# Example usage 1\n",
        "pdf_url = train['URL'][1]\n",
        "extracted_text1 = extract_text_from_pdf_url(pdf_url)\n",
        "print(extracted_text1)"
      ],
      "metadata": {
        "colab": {
          "base_uri": "https://localhost:8080/"
        },
        "id": "mMBhOiqkpqVO",
        "outputId": "2bcf0842-781f-4c56-9ada-8a995ab95739"
      },
      "execution_count": 6,
      "outputs": [
        {
          "output_type": "stream",
          "name": "stdout",
          "text": [
            "Recommended Use:\n",
            "•Architectural\n",
            "•Landscaping\n",
            "•General exterior lighting of\n",
            "hotels, signs, flags, multi-unit\n",
            "residential, commercial, and\n",
            "government buildings.\n",
            "24 led up light\n",
            "DU-SQ-HW24\n",
            "DETAILS\n",
            "LIGHT SOURCE \n",
            "24x Cree 1 W LED Lamps\n",
            "POWER CONSUMPTION \n",
            "32W\n",
            "BEAM WIDTH\n",
            "25 Degree\n",
            "MEASUREMENT \n",
            "9-3/4”L x 7-3/4”W x 4-1/2”H\n",
            "WEIGHT\n",
            "17 Lbs\n",
            "12 led DOWNlight\n",
            "DU-SQ-HW12\n",
            "*Includes DU-WS12 (Sconce)\n",
            "DETAILS\n",
            "LIGHT SOURCE \n",
            "12x1 W Cree LED Lamps\n",
            "POWER CONSUMPTION \n",
            "13W\n",
            "BEAM WIDTH\n",
            "15 Degree\n",
            "MEASUREMENT \n",
            "7-3/4”L x 6”W x 4-1/4”H\n",
            "WEIGHT\n",
            "13 Lbs\n",
            "©Decors USA LLC\n",
            "Phone: 866.248.6300 | 732.486.8520 | www.decorsusa.com | sales@decorsusa.com\n",
            "Mount for 12 LED Downlight and 24 LED UP Light\n",
            "DECORS Hallmark LED LIGHTS\n",
            "DETAILS\n",
            "MEASUREMENT \n",
            "10”W x 12”H x 5”D\n",
            "WEIGHT\n",
            "8 Lbs\n",
            "• All-weather outdoor use\n",
            "• IP65 rated.\n",
            "• Environmental Temp. Range: -\n",
            "7.6° to 113° F (-20° to 45° C)\n",
            "• Electrical Input:  90-265VAC\n",
            "• LED UP Light comes with\n",
            "Mounting Brackets\n",
            "hallmark\n",
            "LED LIGHTS\n",
            "SCONCE COVERS\n",
            "DU-WS12 & DU-WS24\n",
            "Decors USA Provides the UL Listed 12 LED and 24 LED lights in various colors:\n",
            "COLOR\n",
            "White\n",
            "Warm White\n",
            "Red\n",
            "Green\n",
            "Blue\n",
            "Amber\n",
            "Purple\n",
            "LUMENS\n",
            "1680 lm\n",
            "1440 lm\n",
            "840 lm\n",
            "680 lm\n",
            "600 lm\n",
            "960 lm\n",
            "640 lm\n",
            "CT (WAVE LENGTH)\n",
            "5000-7000K\n",
            "2700-3200K\n",
            "620-630 nm\n",
            "520-530 nm\n",
            "450-475 nm\n",
            "585-595 nm\n",
            "420-435 nm\n",
            "PROJECTION DISTANCE: 20M Based on 24 LED lights at 32 watts total\n",
            "available colors\n",
            "and illumination\n",
            "©Decors USA LLC\n",
            "Phone: 866.248.6300 | 732.486.8520 | www.decorsusa.com | sales@decorsusa.com\n",
            "DECORS Hallmark LED LIGHTS\n",
            "mounting instructions\n",
            "©Decors USA LLC\n",
            "Phone: 866.248.6300 | 732.486.8520 | www.decorsusa.com | sales@decorsusa.com\n",
            "DU-SQ-HW12 with DU WS12\n",
            "Parts\n",
            "1. 12 LED Light Fixture (DU-SQ-HW12)\n",
            "2. Sconce Cover (DU WS12)\n",
            "3. Fixture Mounting Screws 3/16” (2) / Sconce Cover Mount-\n",
            "ing Screws (4)\n",
            "4. Wall Anchor Screws 3/8” (6) Not Included.\n",
            "5. Weatherproof Junction Box, Weather Proof Cover with one\n",
            "1/2” outlet and Weatherproof Cable Connection. Not includ-\n",
            "ed.\n",
            "Installation\n",
            "CAUTION: Do not attempt to open the unit. Opening \n",
            "the unit will damage the factory installed water tight seal, \n",
            "which will void the warranty of the fixture.\n",
            "1. All wiring and installation should be done by a licensed\n",
            "electrician.\n",
            "2. Disconnect power before installation. Please note: the\n",
            "120-volt single phase wiring serving this fixture shall be photo\n",
            "sensor controlled for higher energy efficiency and extended\n",
            "life.\n",
            "3. Mark the location on the wall or column where the fixture\n",
            "needs to be installed. The location shall NOT be less than 4 ft\n",
            "from ground level.\n",
            "4. Install an exterior weatherproof junction box with 120/230\n",
            "Volt single phase wiring appropriate for a 100-watt exterior\n",
            "light fixture.\n",
            "5. Using the wall mount as a guide, mark 6 holes around\n",
            "junction box. Drill 3/8” holes on the marked location. Attach\n",
            "the wall mounts using six anchor screws.\n",
            "6. Attach the Sconce Cover with six anchor screws.\n",
            "7. Mount the fixture using two fixture mounting screws and\n",
            "adjust the angle for desired light effect.\n",
            "8. Connect the fixture cable to the junction box using the\n",
            "weatherproof cable connector. Attach a weatherproof cover\n",
            "to the junction box. Attach Sconce Cover using four mounting\n",
            "screws.\n",
            "DU-SQ-HW24\n",
            "Parts\n",
            "1. 24 LED Light Fixture (DU-SQ-HW24)\n",
            "2. Mounting Brackets (2)\n",
            "3. Fixture Mounting Screws 3/16” (2)\n",
            "4. Wall Anchor Screws 3/8” (6) Not Included.\n",
            "5. Weatherproof Junction Box, Weather Proof Cover with\n",
            "one 1/2” outlet and Weatherproof Cable Connection. Not\n",
            "included.\n",
            "Installation\n",
            "CAUTION: Do not attempt to open the unit. Opening \n",
            "the unit will damage the factory installed water tight \n",
            "seal, which will void the warranty of the fixture.\n",
            "1. All wiring and installation should be done by a licensed\n",
            "electrician.\n",
            "2. Disconnect power before installation. Please note: the\n",
            "120-volt single phase wiring serving this fixture shall be\n",
            "photo sensor controlled for higher energy efficiency and\n",
            "extended life.\n",
            "3. Mark the location on the wall or column where the fixture\n",
            "needs to be installed. The location shall NOT be less than 4\n",
            "ft from ground level.\n",
            "4. Install an exterior weatherproof junction box with\n",
            "120/230 Volt single phase wiring appropriate for a 100-watt\n",
            "exterior light fixture.\n",
            "5. Using the mounting bracket as a guide, mark four holes\n",
            "around junction box. Drill 3/8” holes on the marked location. \n",
            "6. Attach the Mounting Brackets with four anchor screws.\n",
            "7. Mount the fixture using two fixture mounting screws and\n",
            "adjust the angle for desired light effect.\n",
            "8. Connect the fixture cable to the junction box using the\n",
            "weatherproof cable connector. Attach a weatherproof cover\n",
            "to the junction box. \n",
            "DECORS Hallmark LED LIGHTS\n",
            "DU-cr-4/6-cwx-p\n",
            "LIGHT DATA\n",
            "LED \n",
            "CREE XRE\n",
            "LED NUMBER \n",
            "4\n",
            "COLOR \n",
            "COOL WHITE\n",
            "LUMEN OUTPUT \n",
            "300 LM\n",
            "MAX EFFICACY \n",
            "75\n",
            "IP RATING \n",
            "65\n",
            "2”\n",
            "Supply Voltage\n",
            "Input Frequency\n",
            "Input Power\n",
            "Lifetime\n",
            "PERFORMANCE PARAMETERS\n",
            "90V ~ 132V AC\n",
            "50/60 Hz\n",
            "5W\n",
            "30,000h\n",
            "Material\n",
            "Surface Treatment\n",
            "APPEARANCE AND MATERIAL\n",
            "Aluminum Alloy, PC\n",
            "Silver gray painted\n",
            "ETL Listed\n",
            "LED “X” Light\n",
            "©Decors USA LLC\n",
            "Phone: 866.248.6300 | 732.486.8520 | www.decorsusa.com | sales@decorsusa.com\n",
            "DECORS Hallmark LED LIGHTS\n",
            "6”\n",
            "\n"
          ]
        }
      ]
    },
    {
      "cell_type": "code",
      "source": [
        "# Example usage 2\n",
        "pdf_url = train['URL'][2]\n",
        "extracted_text2 = extract_text_from_pdf_url(pdf_url)\n",
        "print(extracted_text2)"
      ],
      "metadata": {
        "colab": {
          "base_uri": "https://localhost:8080/"
        },
        "id": "Mp6g4kGSp442",
        "outputId": "d886a02a-6a86-45a5-fb73-1cd358a47747"
      },
      "execution_count": 7,
      "outputs": [
        {
          "output_type": "stream",
          "name": "stdout",
          "text": [
            "Error\n"
          ]
        }
      ]
    },
    {
      "cell_type": "markdown",
      "source": [
        "Create function that extracts texts of all pdf urls present in dataset and stores it in a new column of the dataframe"
      ],
      "metadata": {
        "id": "QE57hnG1WwhP"
      }
    },
    {
      "cell_type": "code",
      "source": [
        "def text_extractor(dataset):\n",
        "  \"\"\"\n",
        "  dataset: csv file (train/test)\n",
        "  output: dataset with an extra column 'Raw text' containing the extracted texts of individual pdf\n",
        "  \"\"\"\n",
        "  extracted_texts = []\n",
        "  for pdf_url in dataset['URL']:\n",
        "    text = extract_text_from_pdf_url(pdf_url)\n",
        "    extracted_texts.append(text)\n",
        "  dataset['Raw text'] = extracted_texts\n",
        "  return dataset"
      ],
      "metadata": {
        "id": "q2U4146RmFfa"
      },
      "execution_count": 5,
      "outputs": []
    },
    {
      "cell_type": "markdown",
      "source": [
        "### Clean and tokenize the texts"
      ],
      "metadata": {
        "id": "8JFYUDNxrpPZ"
      }
    },
    {
      "cell_type": "code",
      "source": [
        "!pip install nltk\n"
      ],
      "metadata": {
        "colab": {
          "base_uri": "https://localhost:8080/"
        },
        "id": "gdyt1dHHsEQI",
        "outputId": "5868fede-0b7a-4e66-ca94-e14fd0cd8d22"
      },
      "execution_count": 7,
      "outputs": [
        {
          "output_type": "stream",
          "name": "stdout",
          "text": [
            "Requirement already satisfied: nltk in /usr/local/lib/python3.10/dist-packages (3.8.1)\n",
            "Requirement already satisfied: click in /usr/local/lib/python3.10/dist-packages (from nltk) (8.1.7)\n",
            "Requirement already satisfied: joblib in /usr/local/lib/python3.10/dist-packages (from nltk) (1.3.2)\n",
            "Requirement already satisfied: regex>=2021.8.3 in /usr/local/lib/python3.10/dist-packages (from nltk) (2023.6.3)\n",
            "Requirement already satisfied: tqdm in /usr/local/lib/python3.10/dist-packages (from nltk) (4.66.1)\n"
          ]
        }
      ]
    },
    {
      "cell_type": "code",
      "source": [
        "import re\n",
        "import string\n",
        "import nltk\n",
        "from nltk.tokenize import word_tokenize\n",
        "from nltk.corpus import stopwords\n",
        "from nltk.stem import WordNetLemmatizer\n",
        "\n",
        "nltk.download('punkt')\n",
        "nltk.download('stopwords')\n",
        "nltk.download('wordnet')\n",
        "\n",
        "lemmatizer = WordNetLemmatizer()\n",
        "\n",
        "def clean_and_tokenize(text):\n",
        "\n",
        "    \"\"\"\n",
        "    text: str -> extracted text\n",
        "    Cleans the raw text of special symbols/emails/hashtags/bullets etc.\n",
        "    \"\"\"\n",
        "\n",
        "    # Remove URL handles (e.g., @username)\n",
        "    text = re.sub(r'@\\S+', '', text)\n",
        "    # Remove email addresses\n",
        "    text = re.sub(r'\\S+@\\S+', '', text)\n",
        "    # Remove website addresses\n",
        "    text = re.sub(r'www.\\S+', '', text)\n",
        "    # Remove hashtags\n",
        "    text = re.sub(r'#\\S+', '', text)\n",
        "    # Remove bullet points\n",
        "    text = re.sub(r'\\s*[\\u2022\\u2023\\u25E6]\\s*', ' ', text)\n",
        "    # Remove punctuation and digits\n",
        "    text = re.sub(f\"[{string.punctuation}\\d]\", \"\", text)\n",
        "    # Remove other special symbols\n",
        "    text = re.sub(r'[^a-zA-Z\\s]', '', text)\n",
        "    # Convert to lowercase\n",
        "    text = text.lower()\n",
        "    # Tokenize the text\n",
        "    tokens = word_tokenize(text)\n",
        "    # Remove stop words\n",
        "    stop_words = set(stopwords.words('english'))\n",
        "    tokens = [word for word in tokens if word not in stop_words]\n",
        "    # Lemmatize tokens\n",
        "    lemmatized_tokens = [lemmatizer.lemmatize(token) for token in tokens]\n",
        "    # Remove single/double characters\n",
        "    lemmatized_tokens = [word for word in lemmatized_tokens if len(word)>2]\n",
        "\n",
        "    return ' '.join(list(set(lemmatized_tokens)))\n"
      ],
      "metadata": {
        "colab": {
          "base_uri": "https://localhost:8080/"
        },
        "id": "9lhJ2wEtrmKl",
        "outputId": "ff3f61ae-8240-464e-8445-a8a09c398570"
      },
      "execution_count": 6,
      "outputs": [
        {
          "output_type": "stream",
          "name": "stderr",
          "text": [
            "[nltk_data] Downloading package punkt to /root/nltk_data...\n",
            "[nltk_data]   Package punkt is already up-to-date!\n",
            "[nltk_data] Downloading package stopwords to /root/nltk_data...\n",
            "[nltk_data]   Package stopwords is already up-to-date!\n",
            "[nltk_data] Downloading package wordnet to /root/nltk_data...\n",
            "[nltk_data]   Package wordnet is already up-to-date!\n"
          ]
        }
      ]
    },
    {
      "cell_type": "code",
      "source": [
        "tokens = clean_and_tokenize(extracted_text1)\n",
        "print(tokens)"
      ],
      "metadata": {
        "colab": {
          "base_uri": "https://localhost:8080/"
        },
        "id": "_Sx69v-drmHF",
        "outputId": "4d0925f7-5b7c-4ec7-b262-0945ed2640fd"
      },
      "execution_count": 30,
      "outputs": [
        {
          "output_type": "stream",
          "name": "stdout",
          "text": [
            "illumination red landscaping damage ducrcwxp led sign use light wiring level weight cover llc based distance consumption general decor duws environmental length opening done multiunit flag hotel mounting warranty attempt need location two single please listed junction volt installation unit alloy width blue wall total around rating photo seal supply input data measurement beam screw tight anchor drill performance four life silver recommended surface cool downlight marked detail source architectural lamp power disconnect connection commercial frequency install higher ground weather electrician lumen one come mount cable hole caution allweather note cree open efficiency box sensor bracket projection outlet serving water treatment connector government lighting angle parameter electrical amber shall wave available output etl temp mark various guide licensed effect connect controlled number included includ green exterior residential extended outdoor installed white aluminum appropriate provides using max attach instruction warm range dusqhw ing sale fixture voltage material usa rated phone energy appearance part sconce watt building purple efficacy xre column factory vac color phase desired painted adjust degree lifetime six void gray weatherproof proof includes hallmark\n"
          ]
        }
      ]
    },
    {
      "cell_type": "markdown",
      "source": [
        "Create function that cleans all extracted texts and stores it in a new column in the dataframe"
      ],
      "metadata": {
        "id": "xOe1tJAxXYmQ"
      }
    },
    {
      "cell_type": "code",
      "source": [
        "def clean_extracted_texts(dataset):\n",
        "  \"\"\"\n",
        "  dataset: pd.DataFrame -> train/test\n",
        "  Clean the extracted test for all rows in the train/test datasets and store it in column 'Clean text'\n",
        "  \"\"\"\n",
        "  cleaned_texts = []\n",
        "  for text in list(dataset['Raw text']):\n",
        "    cleaned_texts.append(clean_and_tokenize(text))\n",
        "  dataset['Clean text'] = cleaned_texts\n",
        "  return dataset"
      ],
      "metadata": {
        "id": "2QHbQQXllmHk"
      },
      "execution_count": 7,
      "outputs": []
    },
    {
      "cell_type": "markdown",
      "source": [
        "### Stitching the preprocessing techniques above together to generate (X,y)-train & (X,y)-test"
      ],
      "metadata": {
        "id": "pvmXA0tpZCun"
      }
    },
    {
      "cell_type": "code",
      "source": [
        "def preprocessing(train, test):\n",
        "\n",
        "  # Drop rows containing missing values\n",
        "  train = train.dropna(axis=0, how='any').reset_index(drop=True)\n",
        "  test = test.dropna(axis=0, how='any').reset_index(drop=True)\n",
        "  # Replace target labels Yes/No with 1/0\n",
        "  train['Is lighting product?'] = train['Is lighting product?'].replace({'Yes':1, 'No':0})\n",
        "  # Extract texts from pdf\n",
        "  train1, test1 = text_extractor(train), text_extractor(test)\n",
        "  # Drop rows having \"Error\" message (couldn't extract texts)\n",
        "  train1 = train1[~train1['Raw text'].isin([\"Error\",\"\"])].reset_index(drop=True)\n",
        "  test1 = test1[~test1['Raw text'].isin([\"Error\",\"\"])].reset_index(drop=True)\n",
        "  # Clean the extracted texts\n",
        "  train2, test2 = clean_extracted_texts(train1), clean_extracted_texts(test1)\n",
        "  # Drop null values\n",
        "  train2 = train2[train2['Clean text']!=''].reset_index(drop=True)\n",
        "  test2 = test2[test1['Clean text']!=''].reset_index(drop=True)\n",
        "  # Split into (X_train, y_train) & (X_test, y_test)\n",
        "  X_train, y_train = train2['Clean text'], train2['Is lighting product?']\n",
        "  X_test, y_test = test2['Clean text'], test2['Is lighting product?']\n",
        "\n",
        "  return X_train, y_train, X_test, y_test"
      ],
      "metadata": {
        "id": "hGzB04x7ZCLS"
      },
      "execution_count": 38,
      "outputs": []
    },
    {
      "cell_type": "code",
      "source": [
        "X_train, y_train, X_test, y_test = preprocessing(train, test)"
      ],
      "metadata": {
        "id": "XOeqO-GlbJKH"
      },
      "execution_count": 39,
      "outputs": []
    },
    {
      "cell_type": "code",
      "source": [
        "X_train.shape, y_train.shape, X_test.shape, y_test.shape"
      ],
      "metadata": {
        "colab": {
          "base_uri": "https://localhost:8080/"
        },
        "id": "ljmXBJQNuT6x",
        "outputId": "f3867b31-8029-4748-96bb-93433cc6c7e7"
      },
      "execution_count": 40,
      "outputs": [
        {
          "output_type": "execute_result",
          "data": {
            "text/plain": [
              "((834,), (834,), (80,), (80,))"
            ]
          },
          "metadata": {},
          "execution_count": 40
        }
      ]
    },
    {
      "cell_type": "code",
      "source": [
        "df_train = pd.DataFrame({'Text': list(X_train), 'Target':list(y_train)})\n",
        "df_test = pd.DataFrame({'Text': list(X_test), 'Target':list(y_test)})\n",
        "df_train.to_csv('/content/drive/MyDrive/parspec_clean_train.csv', index=False)\n",
        "df_test.to_csv('/content/drive/MyDrive/parspec_clean_test.csv', index=False)"
      ],
      "metadata": {
        "id": "KehkCdNzauC4"
      },
      "execution_count": 41,
      "outputs": []
    },
    {
      "cell_type": "markdown",
      "source": [
        "*End of data preprocessing*\n",
        "\n",
        "Switch the runtime from CPU to GPU (if available)"
      ],
      "metadata": {
        "id": "PBzOi2MVr0q4"
      }
    },
    {
      "cell_type": "markdown",
      "source": [
        "### Building the model: Pre-trained BERT Classifier"
      ],
      "metadata": {
        "id": "1puddm6WEhTO"
      }
    },
    {
      "cell_type": "code",
      "source": [
        "!pip install transformers torch\n"
      ],
      "metadata": {
        "colab": {
          "base_uri": "https://localhost:8080/"
        },
        "id": "CMQZoXhAqlLg",
        "outputId": "29e1bef9-1d2e-4450-8d99-6e0da0f081bd"
      },
      "execution_count": 3,
      "outputs": [
        {
          "output_type": "stream",
          "name": "stdout",
          "text": [
            "Requirement already satisfied: transformers in /usr/local/lib/python3.10/dist-packages (4.35.2)\n",
            "Requirement already satisfied: torch in /usr/local/lib/python3.10/dist-packages (2.1.0+cu118)\n",
            "Requirement already satisfied: filelock in /usr/local/lib/python3.10/dist-packages (from transformers) (3.13.1)\n",
            "Requirement already satisfied: huggingface-hub<1.0,>=0.16.4 in /usr/local/lib/python3.10/dist-packages (from transformers) (0.19.4)\n",
            "Requirement already satisfied: numpy>=1.17 in /usr/local/lib/python3.10/dist-packages (from transformers) (1.23.5)\n",
            "Requirement already satisfied: packaging>=20.0 in /usr/local/lib/python3.10/dist-packages (from transformers) (23.2)\n",
            "Requirement already satisfied: pyyaml>=5.1 in /usr/local/lib/python3.10/dist-packages (from transformers) (6.0.1)\n",
            "Requirement already satisfied: regex!=2019.12.17 in /usr/local/lib/python3.10/dist-packages (from transformers) (2023.6.3)\n",
            "Requirement already satisfied: requests in /usr/local/lib/python3.10/dist-packages (from transformers) (2.31.0)\n",
            "Requirement already satisfied: tokenizers<0.19,>=0.14 in /usr/local/lib/python3.10/dist-packages (from transformers) (0.15.0)\n",
            "Requirement already satisfied: safetensors>=0.3.1 in /usr/local/lib/python3.10/dist-packages (from transformers) (0.4.1)\n",
            "Requirement already satisfied: tqdm>=4.27 in /usr/local/lib/python3.10/dist-packages (from transformers) (4.66.1)\n",
            "Requirement already satisfied: typing-extensions in /usr/local/lib/python3.10/dist-packages (from torch) (4.5.0)\n",
            "Requirement already satisfied: sympy in /usr/local/lib/python3.10/dist-packages (from torch) (1.12)\n",
            "Requirement already satisfied: networkx in /usr/local/lib/python3.10/dist-packages (from torch) (3.2.1)\n",
            "Requirement already satisfied: jinja2 in /usr/local/lib/python3.10/dist-packages (from torch) (3.1.2)\n",
            "Requirement already satisfied: fsspec in /usr/local/lib/python3.10/dist-packages (from torch) (2023.6.0)\n",
            "Requirement already satisfied: triton==2.1.0 in /usr/local/lib/python3.10/dist-packages (from torch) (2.1.0)\n",
            "Requirement already satisfied: MarkupSafe>=2.0 in /usr/local/lib/python3.10/dist-packages (from jinja2->torch) (2.1.3)\n",
            "Requirement already satisfied: charset-normalizer<4,>=2 in /usr/local/lib/python3.10/dist-packages (from requests->transformers) (3.3.2)\n",
            "Requirement already satisfied: idna<4,>=2.5 in /usr/local/lib/python3.10/dist-packages (from requests->transformers) (3.6)\n",
            "Requirement already satisfied: urllib3<3,>=1.21.1 in /usr/local/lib/python3.10/dist-packages (from requests->transformers) (2.0.7)\n",
            "Requirement already satisfied: certifi>=2017.4.17 in /usr/local/lib/python3.10/dist-packages (from requests->transformers) (2023.11.17)\n",
            "Requirement already satisfied: mpmath>=0.19 in /usr/local/lib/python3.10/dist-packages (from sympy->torch) (1.3.0)\n"
          ]
        }
      ]
    },
    {
      "cell_type": "code",
      "source": [
        "import pandas as pd\n",
        "import torch\n",
        "from transformers import BertTokenizer, BertForSequenceClassification\n",
        "from torch.utils.data import DataLoader, TensorDataset\n",
        "from sklearn.model_selection import train_test_split\n",
        "from sklearn.metrics import accuracy_score\n",
        "from tqdm import tqdm\n",
        "\n",
        "GLOBAL_SEED = 2023\n",
        "torch.manual_seed(GLOBAL_SEED)\n",
        "\n",
        "# Load the pre-trained BERT model and tokenizer\n",
        "model_name = \"bert-base-uncased\"\n",
        "tokenizer = BertTokenizer.from_pretrained(model_name)\n",
        "model = BertForSequenceClassification.from_pretrained(model_name, num_labels=2)\n",
        "\n",
        "# Tokenize and encode the training and validation data\n",
        "def encode_data(texts, labels):\n",
        "    input_ids = []\n",
        "    attention_masks = []\n",
        "\n",
        "    for text in tqdm(texts, desc=\"Tokenizing\"):\n",
        "        encoded_dict = tokenizer.encode_plus(\n",
        "            text,\n",
        "            add_special_tokens=True,\n",
        "            truncation=True,\n",
        "            max_length=128,\n",
        "            padding='max_length',\n",
        "            return_attention_mask=True,\n",
        "            return_tensors='pt')\n",
        "        input_ids.append(encoded_dict['input_ids'])\n",
        "        attention_masks.append(encoded_dict['attention_mask'])\n",
        "\n",
        "    input_ids = torch.cat(input_ids, dim=0)\n",
        "    attention_masks = torch.cat(attention_masks, dim=0)\n",
        "    labels = torch.tensor(labels)\n",
        "\n",
        "    return input_ids, attention_masks, labels\n",
        "\n",
        "# Reading the cleaned and processed datasets\n",
        "df_train = pd.read_csv('/content/drive/MyDrive/parspec_clean_train.csv')\n",
        "df_test = pd.read_csv('/content/drive/MyDrive/parspec_clean_test.csv')\n",
        "X_train, y_train = df_train['Text'], df_train['Target']\n",
        "X_test, y_test = df_test['Text'], df_test['Target']\n",
        "\n",
        "# Encode training and validation data\n",
        "input_ids_train, attention_masks_train, labels_train = encode_data(list(X_train), list(y_train))\n",
        "input_ids_test, attention_masks_test, labels_test = encode_data(list(X_test), list(y_test))\n",
        "\n",
        "# Create DataLoader for training and validation data\n",
        "train_dataset = TensorDataset(input_ids_train, attention_masks_train, labels_train)\n",
        "test_dataset = TensorDataset(input_ids_test, attention_masks_test, labels_test)\n",
        "\n",
        "batch_size = 32\n",
        "train_dataloader = DataLoader(train_dataset, batch_size=batch_size, shuffle=True)\n",
        "test_dataloader = DataLoader(test_dataset, batch_size=batch_size, shuffle=False)\n"
      ],
      "metadata": {
        "colab": {
          "base_uri": "https://localhost:8080/"
        },
        "id": "nNUANTBMq6iT",
        "outputId": "eb9d7455-83b6-46d5-863b-4d400dc421e7"
      },
      "execution_count": 95,
      "outputs": [
        {
          "output_type": "stream",
          "name": "stderr",
          "text": [
            "Some weights of BertForSequenceClassification were not initialized from the model checkpoint at bert-base-uncased and are newly initialized: ['classifier.weight', 'classifier.bias']\n",
            "You should probably TRAIN this model on a down-stream task to be able to use it for predictions and inference.\n",
            "Tokenizing: 100%|██████████| 834/834 [00:04<00:00, 202.57it/s]\n",
            "Tokenizing: 100%|██████████| 80/80 [00:00<00:00, 85.60it/s]\n"
          ]
        }
      ]
    },
    {
      "cell_type": "markdown",
      "source": [
        "### Training/ Fine-tuning BERT on downstream task"
      ],
      "metadata": {
        "id": "87PY1FcLE4oS"
      }
    },
    {
      "cell_type": "code",
      "source": [
        "# Set up training parameters\n",
        "epochs = 5\n",
        "optimizer = torch.optim.AdamW(model.parameters(), lr=2e-5)\n",
        "device = torch.device(\"cuda\" if torch.cuda.is_available() else \"cpu\")\n",
        "model.to(device)\n",
        "\n",
        "def train(model, epochs, optimizer, device):\n",
        "\n",
        "    \"\"\"\n",
        "    model: Bert ForSequence Classification\n",
        "    epochs: int\n",
        "    optimizer: torch optimizers\n",
        "    device: 'cpu/'cuda'\n",
        "    returns the trained model and the loss at each iteration\n",
        "    \"\"\"\n",
        "    model.to(device)\n",
        "    Loss = []\n",
        "    # Training loop\n",
        "    for epoch in range(epochs):\n",
        "        model.train()\n",
        "        for batch in tqdm(train_dataloader, desc=f\"Epoch {epoch + 1}/{epochs}\"):\n",
        "            batch = tuple(t.to(device) for t in batch)\n",
        "            inputs = {'input_ids': batch[0], 'attention_mask': batch[1], 'labels': batch[2]}\n",
        "            optimizer.zero_grad()\n",
        "            outputs = model(**inputs)\n",
        "            loss = outputs.loss\n",
        "            Loss.append(float(loss.data))\n",
        "            loss.backward()\n",
        "            optimizer.step()\n",
        "\n",
        "    return model, Loss"
      ],
      "metadata": {
        "id": "ZU6YvG2Lwfek"
      },
      "execution_count": 96,
      "outputs": []
    },
    {
      "cell_type": "code",
      "source": [
        "trained_model, loss = train(model, epochs, optimizer, device)"
      ],
      "metadata": {
        "colab": {
          "base_uri": "https://localhost:8080/"
        },
        "id": "yO1dE6-WM6z2",
        "outputId": "00506337-6e7a-4041-ddec-0cf68c8c7a7c"
      },
      "execution_count": 97,
      "outputs": [
        {
          "output_type": "stream",
          "name": "stderr",
          "text": [
            "Epoch 1/5: 100%|██████████| 27/27 [00:15<00:00,  1.71it/s]\n",
            "Epoch 2/5: 100%|██████████| 27/27 [00:16<00:00,  1.68it/s]\n",
            "Epoch 3/5: 100%|██████████| 27/27 [00:16<00:00,  1.65it/s]\n",
            "Epoch 4/5: 100%|██████████| 27/27 [00:16<00:00,  1.61it/s]\n",
            "Epoch 5/5: 100%|██████████| 27/27 [00:17<00:00,  1.58it/s]\n"
          ]
        }
      ]
    },
    {
      "cell_type": "markdown",
      "source": [
        "Plotting the loss curve during training"
      ],
      "metadata": {
        "id": "EHxqL9gXJ6A9"
      }
    },
    {
      "cell_type": "code",
      "source": [
        "import matplotlib.pyplot as plt\n",
        "iterations = list(range(1,len(loss)+1))\n",
        "plt.plot(iterations, loss)\n",
        "plt.ylabel('Loss')\n",
        "plt.xlabel('#Iterations')\n",
        "plt.show()"
      ],
      "metadata": {
        "colab": {
          "base_uri": "https://localhost:8080/",
          "height": 449
        },
        "id": "kOaZYd1oSJwL",
        "outputId": "077b0a7b-7b6c-45bb-fec7-d975c3703940"
      },
      "execution_count": 98,
      "outputs": [
        {
          "output_type": "display_data",
          "data": {
            "text/plain": [
              "<Figure size 640x480 with 1 Axes>"
            ],
            "image/png": "[encoded data removed]"
          },
          "metadata": {}
        }
      ]
    },
    {
      "cell_type": "markdown",
      "source": [
        "###Save the trained model for future inference"
      ],
      "metadata": {
        "id": "OTcmnrPCYj6M"
      }
    },
    {
      "cell_type": "code",
      "source": [
        "import os\n",
        "# Save model and tokenizer\n",
        "output_dir = \"/content/drive/MyDrive/Parspec/\"\n",
        "if not os.path.exists(output_dir):\n",
        "  os.mkdir(output_dir)\n",
        "\n",
        "model_to_save = model.module if hasattr(model, 'module') else model\n",
        "model_to_save.save_pretrained(output_dir)\n",
        "tokenizer.save_pretrained(output_dir)"
      ],
      "metadata": {
        "colab": {
          "base_uri": "https://localhost:8080/"
        },
        "id": "VG0Ad1NXf-3j",
        "outputId": "ea79d18d-c241-4398-8cc1-dc9219531b0e"
      },
      "execution_count": 11,
      "outputs": [
        {
          "output_type": "execute_result",
          "data": {
            "text/plain": [
              "('/content/drive/MyDrive/Parspec/tokenizer_config.json',\n",
              " '/content/drive/MyDrive/Parspec/special_tokens_map.json',\n",
              " '/content/drive/MyDrive/Parspec/vocab.txt',\n",
              " '/content/drive/MyDrive/Parspec/added_tokens.json')"
            ]
          },
          "metadata": {},
          "execution_count": 11
        }
      ]
    },
    {
      "cell_type": "markdown",
      "source": [
        "###Check our trained model performance on test data"
      ],
      "metadata": {
        "id": "symdBbrBYsn2"
      }
    },
    {
      "cell_type": "code",
      "source": [
        "def test(model):\n",
        "  \"\"\"\n",
        "  model: trained BERT model/loaded BERT model\n",
        "  returns predictions\n",
        "  \"\"\"\n",
        "  # Inference loop\n",
        "  model.eval()\n",
        "  all_preds = []\n",
        "  with torch.no_grad():\n",
        "      for batch in tqdm(test_dataloader, desc=\"Test\"):\n",
        "          batch = tuple(t.to(device) for t in batch)\n",
        "          inputs = {'input_ids': batch[0], 'attention_mask': batch[1], 'labels': batch[2]}\n",
        "          outputs = model(**inputs)\n",
        "          logits = outputs.logits\n",
        "          preds = torch.argmax(logits, dim=1)\n",
        "          all_preds.extend(preds.cpu().numpy())\n",
        "  return all_preds\n",
        "\n",
        "# Evaluate\n",
        "all_preds = test(trained_model)\n",
        "accuracy = accuracy_score(list(y_test), all_preds)\n",
        "print(f\"Test Accuracy: {accuracy}\")"
      ],
      "metadata": {
        "colab": {
          "base_uri": "https://localhost:8080/"
        },
        "id": "IH30-xAixLia",
        "outputId": "6eceedfe-1ec2-4741-8b41-370744d1271b"
      },
      "execution_count": 101,
      "outputs": [
        {
          "output_type": "stream",
          "name": "stderr",
          "text": [
            "Test: 100%|██████████| 3/3 [00:00<00:00,  5.35it/s]"
          ]
        },
        {
          "output_type": "stream",
          "name": "stdout",
          "text": [
            "Test Accuracy: 0.7375\n"
          ]
        },
        {
          "output_type": "stream",
          "name": "stderr",
          "text": [
            "\n"
          ]
        }
      ]
    },
    {
      "cell_type": "code",
      "source": [],
      "metadata": {
        "id": "cGJxo33Isv0C"
      },
      "execution_count": null,
      "outputs": []
    }
  ]
}