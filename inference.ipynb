{
  "nbformat": 4,
  "nbformat_minor": 0,
  "metadata": {
    "colab": {
      "provenance": []
    },
    "kernelspec": {
      "name": "python3",
      "display_name": "Python 3"
    },
    "language_info": {
      "name": "python"
    }
  },
  "cells": [
    {
      "cell_type": "markdown",
      "source": [
        "# Parspec Data Science Interview Assignment (Part-2)"
      ],
      "metadata": {
        "id": "SHT-i3Oit2Xd"
      }
    },
    {
      "cell_type": "code",
      "source": [
        "!pip install PyMuPDF"
      ],
      "metadata": {
        "colab": {
          "base_uri": "https://localhost:8080/"
        },
        "id": "pUyqtJI9Vrlj",
        "outputId": "1deecee2-0fac-4a42-8a05-84b1e0632363"
      },
      "execution_count": 3,
      "outputs": [
        {
          "output_type": "stream",
          "name": "stdout",
          "text": [
            "Collecting PyMuPDF\n",
            "  Downloading PyMuPDF-1.23.7-cp310-none-manylinux2014_x86_64.whl (4.4 MB)\n",
            "\u001b[2K     \u001b[90m━━━━━━━━━━━━━━━━━━━━━━━━━━━━━━━━━━━━━━━━\u001b[0m \u001b[32m4.4/4.4 MB\u001b[0m \u001b[31m14.4 MB/s\u001b[0m eta \u001b[36m0:00:00\u001b[0m\n",
            "\u001b[?25hCollecting PyMuPDFb==1.23.7 (from PyMuPDF)\n",
            "  Downloading PyMuPDFb-1.23.7-py3-none-manylinux2014_x86_64.manylinux_2_17_x86_64.whl (30.6 MB)\n",
            "\u001b[2K     \u001b[90m━━━━━━━━━━━━━━━━━━━━━━━━━━━━━━━━━━━━━━━━\u001b[0m \u001b[32m30.6/30.6 MB\u001b[0m \u001b[31m38.5 MB/s\u001b[0m eta \u001b[36m0:00:00\u001b[0m\n",
            "\u001b[?25hInstalling collected packages: PyMuPDFb, PyMuPDF\n",
            "Successfully installed PyMuPDF-1.23.7 PyMuPDFb-1.23.7\n"
          ]
        }
      ]
    },
    {
      "cell_type": "code",
      "source": [
        "import pandas as pd\n",
        "import requests\n",
        "import fitz  # PyMuPDF\n",
        "import re\n",
        "import string\n",
        "import nltk\n",
        "from nltk.tokenize import word_tokenize\n",
        "from nltk.corpus import stopwords\n",
        "from nltk.stem import WordNetLemmatizer\n",
        "import warnings\n",
        "warnings.filterwarnings('ignore')\n",
        "\n",
        "import torch\n",
        "from transformers import BertTokenizer, BertForSequenceClassification\n",
        "from torch.utils.data import DataLoader, TensorDataset\n",
        "from sklearn.model_selection import train_test_split\n",
        "from sklearn.metrics import accuracy_score\n",
        "from tqdm import tqdm\n",
        "from flask import Flask, request, jsonify"
      ],
      "metadata": {
        "id": "B2hg8yejbNhW"
      },
      "execution_count": 3,
      "outputs": []
    },
    {
      "cell_type": "markdown",
      "source": [
        "###Data preprocessing functions"
      ],
      "metadata": {
        "id": "n7Qy1q4hVcFs"
      }
    },
    {
      "cell_type": "code",
      "source": [
        "def extract_text_from_pdf_url(pdf_url):\n",
        "\n",
        "    \"\"\"\n",
        "    pdf_url: string (URL handle)\n",
        "    output: string (extracted text / 'Error')\n",
        "    1. Inputs a pdf URL handle\n",
        "    2. Checks status of webpage\n",
        "    3. If pdf file exists, returns the extracted text\n",
        "    4. Else return a failure message- 'Error'\n",
        "    \"\"\"\n",
        "\n",
        "    # Download the PDF content from the URL\n",
        "    response = requests.get(pdf_url, verify=False)\n",
        "\n",
        "    # Check if the request was successful (status code 200)\n",
        "    if response.status_code == 200:\n",
        "        # Create a PyMuPDF document object from the PDF content\n",
        "        pdf_document = fitz.open(stream=response.content, filetype=\"pdf\")\n",
        "\n",
        "        # Iterate through pages and extract text\n",
        "        text = \"\"\n",
        "        for page_number in range(pdf_document.page_count):\n",
        "            page = pdf_document[page_number]\n",
        "            text += page.get_text()\n",
        "\n",
        "        # Close the PyMuPDF document\n",
        "        pdf_document.close()\n",
        "\n",
        "        return text\n",
        "    else:\n",
        "        # Print an error message if the request was not successful\n",
        "        return \"Error\""
      ],
      "metadata": {
        "id": "75pw7mjFjlm6"
      },
      "execution_count": 4,
      "outputs": []
    },
    {
      "cell_type": "code",
      "source": [
        "def clean_and_tokenize(text):\n",
        "\n",
        "    # Remove URL handles (e.g., @username)\n",
        "    text = re.sub(r'@\\S+', '', text)\n",
        "    # Remove email addresses\n",
        "    text = re.sub(r'\\S+@\\S+', '', text)\n",
        "    # Remove website addresses\n",
        "    text = re.sub(r'www.\\S+', '', text)\n",
        "    # Remove hashtags\n",
        "    text = re.sub(r'#\\S+', '', text)\n",
        "    # Remove bullet points\n",
        "    text = re.sub(r'\\s*[\\u2022\\u2023\\u25E6]\\s*', ' ', text)\n",
        "    # Remove punctuation and digits\n",
        "    text = re.sub(f\"[{string.punctuation}\\d]\", \"\", text)\n",
        "    # Remove other special symbols\n",
        "    text = re.sub(r'[^a-zA-Z\\s]', '', text)\n",
        "    # Convert to lowercase\n",
        "    text = text.lower()\n",
        "    # Tokenize the text\n",
        "    tokens = word_tokenize(text)\n",
        "    # Remove stop words\n",
        "    stop_words = set(stopwords.words('english'))\n",
        "    tokens = [word for word in tokens if word not in stop_words]\n",
        "    # Lemmatize tokens\n",
        "    lemmatizer = WordNetLemmatizer()\n",
        "    lemmatized_tokens = [lemmatizer.lemmatize(token) for token in tokens]\n",
        "    # Remove single/double characters\n",
        "    lemmatized_tokens = [word for word in lemmatized_tokens if len(word)>2]\n",
        "\n",
        "    return ' '.join(list(set(lemmatized_tokens)))"
      ],
      "metadata": {
        "id": "zK8xs2JTjnyS"
      },
      "execution_count": 5,
      "outputs": []
    },
    {
      "cell_type": "markdown",
      "source": [
        "###Load the trained BERT model"
      ],
      "metadata": {
        "id": "oMounR6FUC9n"
      }
    },
    {
      "cell_type": "code",
      "source": [
        "def load_model(device):\n",
        "\n",
        "  \"\"\"\n",
        "  device: str -> 'cpu'/'cuda'\n",
        "  Load the trained model parameters and tokenizer\n",
        "  \"\"\"\n",
        "\n",
        "  output_dir = \"/content/drive/MyDrive/Parspec/\"\n",
        "  model = BertForSequenceClassification.from_pretrained(output_dir)\n",
        "  tokenizer = BertTokenizer.from_pretrained(output_dir)\n",
        "\n",
        "  return model.to(device), tokenizer\n",
        "\n",
        "# Load pre-trained BERT model and tokenizer\n",
        "device = torch.device(\"cuda\" if torch.cuda.is_available() else \"cpu\")\n",
        "model, tokenizer = load_model(device)"
      ],
      "metadata": {
        "id": "S43i3dRJj7Wb"
      },
      "execution_count": 6,
      "outputs": []
    },
    {
      "cell_type": "markdown",
      "source": [
        "###Create the inference pipeline"
      ],
      "metadata": {
        "id": "ogPakrQdUSCp"
      }
    },
    {
      "cell_type": "code",
      "source": [
        "def inference(pdf_url, model, tokenizer):\n",
        "    \"\"\"\n",
        "    pdf_url: str -> Enter the pdf url to be checked\n",
        "    model -> load trained BERT state parameters\n",
        "    tokenizer -> load pretrained BERT tokenizer\n",
        "\n",
        "    1. Access the pdf url to extract text\n",
        "    2. Clean the extracted text\n",
        "    3. Evaluate the text on the trained BERT to fetch classification results\n",
        "    \"\"\"\n",
        "\n",
        "    # Run the preprocessing steps: 1. Extract text from url & 2. Clean the text\n",
        "    extracted_text = extract_text_from_pdf_url(pdf_url)\n",
        "    if extracted_text==\"Error\" or extracted_text=='':\n",
        "      return 'Invalid URL'\n",
        "    clean_text = clean_and_tokenize(extracted_text)\n",
        "    if clean_text=='':\n",
        "      return 'Cannot extract sufficient text for classification!'\n",
        "\n",
        "    # Tokenize input text\n",
        "    inputs = tokenizer(clean_text, return_tensors=\"pt\")\n",
        "\n",
        "    # Perform inference\n",
        "    model.eval()\n",
        "    outputs = model(**inputs)\n",
        "    logits = outputs.logits\n",
        "\n",
        "    # Get predicted class (binary classification example)\n",
        "    predicted_class = torch.argmax(logits, dim=1).item()\n",
        "    predicted_class = 'Yes' if predicted_class==1 else 'No'\n",
        "\n",
        "    # Fetch the probability of predicted class\n",
        "    prob = float(max(torch.nn.functional.softmax(input = logits.data)[0]))\n",
        "\n",
        "    return {\"Is lighting product?\":predicted_class, \"Confidence score(%)\":round(prob*100,1)}"
      ],
      "metadata": {
        "id": "geYXoWudSeu8"
      },
      "execution_count": 40,
      "outputs": []
    },
    {
      "cell_type": "markdown",
      "source": [
        "Check the inference pipeline on a user provided url"
      ],
      "metadata": {
        "id": "HcrnURs9rieM"
      }
    },
    {
      "cell_type": "code",
      "source": [
        "test_url = 'https://www.assets.signify.com/is/content/Signify/7f3dac4eae71462583e0ad41006cad73'\n",
        "inference(test_url,model,tokenizer)"
      ],
      "metadata": {
        "colab": {
          "base_uri": "https://localhost:8080/"
        },
        "id": "xEvbfj2zGYvk",
        "outputId": "93ce07f4-6274-41be-b9d8-12bd514107c8"
      },
      "execution_count": 41,
      "outputs": [
        {
          "output_type": "execute_result",
          "data": {
            "text/plain": [
              "{'Is lighting product?': 'Yes', 'Confidence score(%)': 81.4}"
            ]
          },
          "metadata": {},
          "execution_count": 41
        }
      ]
    },
    {
      "cell_type": "code",
      "source": [],
      "metadata": {
        "id": "xjUG2ifCSJYT"
      },
      "execution_count": null,
      "outputs": []
    }
  ]
}